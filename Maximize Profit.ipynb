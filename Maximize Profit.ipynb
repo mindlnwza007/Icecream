{
 "cells": [
  {
   "cell_type": "code",
   "execution_count": 4,
   "id": "d0532f31",
   "metadata": {},
   "outputs": [
    {
     "name": "stdout",
     "output_type": "stream",
     "text": [
      "     con: array([2.23854002e-09])\n",
      "     fun: -149.99999994426094\n",
      " message: 'Optimization terminated successfully.'\n",
      "     nit: 5\n",
      "   slack: array([], dtype=float64)\n",
      "  status: 0\n",
      " success: True\n",
      "       x: array([4.02926357e-09, 5.00000000e+01])\n"
     ]
    }
   ],
   "source": [
    "import numpy as np\n",
    "from scipy.optimize import linprog\n",
    "c = np.array ([-2, -3]) #take (-) to minimize function = maximize function \n",
    "A_eq = np.array ([[0.5, 0.2]])\n",
    "b_eq = np.array ([10.0])\n",
    "x0_bound = (0, 50)\n",
    "bounds = [x0_bound]\n",
    "result = linprog(c, A_eq = A_eq, b_eq = b_eq, bounds=bounds)\n",
    "print(result)"
   ]
  },
  {
   "cell_type": "code",
   "execution_count": null,
   "id": "e49df3e0",
   "metadata": {},
   "outputs": [],
   "source": []
  },
  {
   "cell_type": "code",
   "execution_count": null,
   "id": "53de9123",
   "metadata": {},
   "outputs": [],
   "source": []
  }
 ],
 "metadata": {
  "kernelspec": {
   "display_name": "Python 3",
   "language": "python",
   "name": "python3"
  },
  "language_info": {
   "codemirror_mode": {
    "name": "ipython",
    "version": 3
   },
   "file_extension": ".py",
   "mimetype": "text/x-python",
   "name": "python",
   "nbconvert_exporter": "python",
   "pygments_lexer": "ipython3",
   "version": "3.8.8"
  }
 },
 "nbformat": 4,
 "nbformat_minor": 5
}
